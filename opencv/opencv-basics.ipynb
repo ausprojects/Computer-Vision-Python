{
 "cells": [
  {
   "cell_type": "code",
   "execution_count": null,
   "id": "7ddb9aac-8f2f-4960-8927-2b801bd9f83b",
   "metadata": {},
   "outputs": [
    {
     "name": "stderr",
     "output_type": "stream",
     "text": [
      "2024-07-27 19:35:34.518 Python[12805:230585] WARNING: Secure coding is not enabled for restorable state! Enable secure coding by implementing NSApplicationDelegate.applicationSupportsSecureRestorableState: and returning YES.\n"
     ]
    }
   ],
   "source": [
    "import cv2\n",
    " \n",
    "# To read image from disk, we use\n",
    "# cv2.imread function, in below method,\n",
    "img = cv2.imread(\"images/tiger-face.jpeg\", cv2.IMREAD_COLOR)\n",
    " \n",
    "# Creating GUI window to display an image on screen\n",
    "# first Parameter is windows title (should be in string format)\n",
    "# Second Parameter is image array\n",
    "cv2.imshow(\"image\", img)\n",
    " \n",
    "# To hold the window on screen, we use cv2.waitKey method\n",
    "# Once it detected the close input, it will release the control\n",
    "# To the next line\n",
    "# First Parameter is for holding screen for specified milliseconds\n",
    "# It should be positive integer. If 0 pass an parameter, then it will\n",
    "# hold the screen until user close it.\n",
    "cv2.waitKey(0)\n",
    " \n",
    "# It is for removing/deleting created GUI window from screen\n",
    "# and memory\n",
    "cv2.destroyAllWindows()"
   ]
  },
  {
   "cell_type": "code",
   "execution_count": null,
   "id": "7aff1fd5-c322-4cd1-b179-48686f781102",
   "metadata": {},
   "outputs": [],
   "source": [
    "import cv2  \n",
    "import numpy as np  \n",
    "  \n",
    "# path to input image is specified and   \n",
    "# image is loaded with imread command  \n",
    "image1 = cv2.imread('images/tiger-face.jpeg')  \n",
    "  \n",
    "# cv2.cvtColor is applied over the \n",
    "# image input with applied parameters \n",
    "# to convert the image in grayscale  \n",
    "img = cv2.cvtColor(image1, cv2.COLOR_BGR2GRAY) \n",
    "  \n",
    "# applying different thresholding  \n",
    "# techniques on the input image \n",
    "# all pixels value above 120 will  \n",
    "# be set to 255 \n",
    "ret, thresh1 = cv2.threshold(img, 120, 255, cv2.THRESH_BINARY) \n",
    "ret, thresh2 = cv2.threshold(img, 120, 255, cv2.THRESH_BINARY_INV) \n",
    "ret, thresh3 = cv2.threshold(img, 120, 255, cv2.THRESH_TRUNC) \n",
    "ret, thresh4 = cv2.threshold(img, 120, 255, cv2.THRESH_TOZERO) \n",
    "ret, thresh5 = cv2.threshold(img, 120, 255, cv2.THRESH_TOZERO_INV) \n",
    "  \n",
    "# the window showing output images \n",
    "# with the corresponding thresholding  \n",
    "# techniques applied to the input images \n",
    "cv2.imshow('Binary Threshold', thresh1) \n",
    "cv2.imshow('Binary Threshold Inverted', thresh2) \n",
    "cv2.imshow('Truncated Threshold', thresh3) \n",
    "cv2.imshow('Set to 0', thresh4) \n",
    "cv2.imshow('Set to 0 Inverted', thresh5) \n",
    "    \n",
    "# De-allocate any associated memory usage   \n",
    "if cv2.waitKey(0) & 0xff == 27:  \n",
    "    cv2.destroyAllWindows()  "
   ]
  },
  {
   "cell_type": "code",
   "execution_count": null,
   "id": "0f4a6130-fdee-4236-aab5-92c6546eb3c3",
   "metadata": {},
   "outputs": [],
   "source": []
  }
 ],
 "metadata": {
  "kernelspec": {
   "display_name": "Python 3 (ipykernel)",
   "language": "python",
   "name": "python3"
  },
  "language_info": {
   "codemirror_mode": {
    "name": "ipython",
    "version": 3
   },
   "file_extension": ".py",
   "mimetype": "text/x-python",
   "name": "python",
   "nbconvert_exporter": "python",
   "pygments_lexer": "ipython3",
   "version": "3.11.9"
  }
 },
 "nbformat": 4,
 "nbformat_minor": 5
}
